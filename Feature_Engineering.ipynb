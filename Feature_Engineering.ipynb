{
  "nbformat": 4,
  "nbformat_minor": 0,
  "metadata": {
    "colab": {
      "provenance": []
    },
    "kernelspec": {
      "name": "python3",
      "display_name": "Python 3"
    },
    "language_info": {
      "name": "python"
    }
  },
  "cells": [
    {
      "cell_type": "code",
      "execution_count": null,
      "metadata": {
        "id": "k0EaDGuW4sjy"
      },
      "outputs": [],
      "source": []
    },
    {
      "cell_type": "markdown",
      "source": [
        "Assignment Questions"
      ],
      "metadata": {
        "id": "p1FxQKwg4uRC"
      }
    },
    {
      "cell_type": "markdown",
      "source": [
        "Q1 What is a parameter?"
      ],
      "metadata": {
        "id": "OfHTIIL74zgZ"
      }
    },
    {
      "cell_type": "markdown",
      "source": [
        "Ans. A parameter in machine learning is a variable that the model learns from the training data to make predictions. for example, in linear regression, parameters are the coefficients for each feature. they are crucial for the model's performence, while hyperparameters are set before training and influence how the model learns."
      ],
      "metadata": {
        "id": "7in5UtGO45kZ"
      }
    },
    {
      "cell_type": "markdown",
      "source": [
        "Q2 What is correlation?"
      ],
      "metadata": {
        "id": "knrIKlem6I4I"
      }
    },
    {
      "cell_type": "markdown",
      "source": [
        "Ans. Correlation is a statistical measure that shows the strength and direction of a relationship between two variables. it can be positive (both increase together), negative (one increases while the other decreases), or none (no relationship). the correlation coefficient ranges from -1 to 1, indicating the strength and type of correlation."
      ],
      "metadata": {
        "id": "pyK29Cax6NCg"
      }
    },
    {
      "cell_type": "markdown",
      "source": [
        "Q What does negative correlation mean?"
      ],
      "metadata": {
        "id": "1S8k0Xrl7R73"
      }
    },
    {
      "cell_type": "markdown",
      "source": [
        "Ans. Negative correlation means that when one variable increases, the other variable decreases. it shows an inverse relationship. for example, as study time increases, mistakes on a test may decrease. the correlation coefficient for negative correlation ranges from -1 to 0, with values closer to -1 indicating a stronger negative relationship."
      ],
      "metadata": {
        "id": "y1lYptZN7cLS"
      }
    },
    {
      "cell_type": "markdown",
      "source": [
        "Q3 Define Machine Learning. What are the main components in Machine Learning?"
      ],
      "metadata": {
        "id": "wzFIrip18hP8"
      }
    },
    {
      "cell_type": "markdown",
      "source": [
        "Ans. Machine learning is a branch of artificial intelligence that enables computers to learn from data and make predictions without being explicitly programmed. the main components of machine learning are :\n",
        "\n",
        "1.Data : The information used to train the model.\n",
        "2.Algorithms: The methods used to analyze data and learn patterns.\n",
        "3.Model : The output that represents learned patterns.\n",
        "4.Training : The process of creating the model using data.\n",
        "5.Evaluation : Assessing the model's performance.\n",
        "6.Deployment : Using the model in real-world applications.\n",
        "\n",
        "These components work together to improve machine performance over time."
      ],
      "metadata": {
        "id": "jk_oOBtO8uN9"
      }
    },
    {
      "cell_type": "markdown",
      "source": [
        "Q4 How does loss value help in determining whether the model is good or not?"
      ],
      "metadata": {
        "id": "hLSLefNb-4WC"
      }
    },
    {
      "cell_type": "markdown",
      "source": [
        "Ans. Loss value measures how well a machine learning model is performing by quantifying the difference between predicted and actual values. a lower loss indicates better performance. it helps in:\n",
        "\n",
        "1.Evaluating performance : A decreasing loss shows the model is learning.\n",
        "2.Comparing models : The model with the lowest loss is often better.\n",
        "3.Detecting overfitting : If training loss decreases but validation loss increases, the model may be overfitting.\n",
        "4.Tuning hyperparameters : Loss values guide adjustments for better performance.\n",
        "\n",
        "In short, loss value is essential for assessing and improving model quality."
      ],
      "metadata": {
        "id": "VSiVnnsM-_CT"
      }
    },
    {
      "cell_type": "markdown",
      "source": [
        "Q5 What are continuous and categorical variables?"
      ],
      "metadata": {
        "id": "m69O1tEIBgua"
      }
    },
    {
      "cell_type": "markdown",
      "source": [
        "Ans. Continuous variables are numerical values that can take any value within a range, like height or weight. Categorical variables represent distinct categories or groups, such as gender or colors. They can be nominal (no order) or ordinal (with order). In short, continuous variables are measurable numbers, while categorical variables are groups or categories."
      ],
      "metadata": {
        "id": "wTe0TlsiBZse"
      }
    },
    {
      "cell_type": "markdown",
      "source": [
        "Q6 How do we handle categorical variables in Machine Learning? What are the common techniques?"
      ],
      "metadata": {
        "id": "C91mkDy2B2sc"
      }
    },
    {
      "cell_type": "markdown",
      "source": [
        "Ans. Categorical variables in machine learning can be handled using several techniques:\n",
        "\n",
        "1. Label Encoding: Converts categories to unique integers.\n",
        "2. One-Hot Encoding: Creates binary columns for each category.\n",
        "3. Binary Encoding: Combines label and one-hot encoding for efficiency.\n",
        "4. Target Encoding: Replaces categories with the average of the target variable.\n",
        "5. Frequency Encoding: Replaces categories with their count in the dataset.\n",
        "\n",
        "These methods help convert categorical data into a numerical format suitable for machine learning models."
      ],
      "metadata": {
        "id": "iAh8UCHIB6zd"
      }
    },
    {
      "cell_type": "markdown",
      "source": [
        "Q7 What do you mean by training and testing a dataset?"
      ],
      "metadata": {
        "id": "9aLFWRW2Fnj-"
      }
    },
    {
      "cell_type": "markdown",
      "source": [
        "Ans. Training a dataset means using a part of the data to teach a machine learning model to recognize patterns. Testing a dataset involves evaluating the model's performance on a separate part of the data that it hasn't seen before. In short, training is for learning, and testing is for checking how well the model performs on new data."
      ],
      "metadata": {
        "id": "-DcsyTAMFunZ"
      }
    },
    {
      "cell_type": "markdown",
      "source": [
        "Q8 What is sklearn.preprocessing?"
      ],
      "metadata": {
        "id": "ISnrOaHBGA3E"
      }
    },
    {
      "cell_type": "markdown",
      "source": [
        "Ans. sklearn.preprocessing is a module in the scikit-learn library that provides tools for preparing data for machine learning. It includes methods for scaling features, encoding categorical variables, filling in missing values, and normalizing data. These techniques help ensure that the data is in the right format for models to learn effectively."
      ],
      "metadata": {
        "id": "KmGLw4BBGF8O"
      }
    },
    {
      "cell_type": "markdown",
      "source": [
        "Q9 What is a Test set?"
      ],
      "metadata": {
        "id": "GAME1yMqGdxp"
      }
    },
    {
      "cell_type": "markdown",
      "source": [
        "Ans. A test set is a part of the dataset used to evaluate a machine learning model after it has been trained. It contains data that the model hasn't seen, allowing you to check how well it performs on new data."
      ],
      "metadata": {
        "id": "m-6PCfofGn0k"
      }
    },
    {
      "cell_type": "markdown",
      "source": [
        "Q10 How do we split data for model fitting (training and testing) in Python?"
      ],
      "metadata": {
        "id": "AGKOKVurHdDP"
      }
    },
    {
      "cell_type": "markdown",
      "source": [
        "Ans. To split data for model fitting in Python, you can use the train_test_split function from the sklearn.model_selection module. Here’s a quick example:\n"
      ],
      "metadata": {
        "id": "6yIbjr_hINxS"
      }
    },
    {
      "cell_type": "code",
      "source": [
        "from sklearn.model_selection import train_test_split\n",
        "\n",
        "# Example dataset (X: features, y: target variable)\n",
        "X = [[1, 2], [3, 4], [5, 6], [7, 8], [9, 10]]\n",
        "y = [0, 1, 0, 1, 0]\n",
        "\n",
        "# Split the data into training and testing sets\n",
        "X_train, X_test, y_train, y_test = train_test_split(X, y, test_size=0.2, random_state=42)\n",
        "\n",
        "print(\"Training features:\", X_train)\n",
        "print(\"Testing features:\", X_test)\n",
        "print(\"Training labels:\", y_train)\n",
        "print(\"Testing labels:\", y_test)\n"
      ],
      "metadata": {
        "colab": {
          "base_uri": "https://localhost:8080/"
        },
        "id": "duKWD1_bH3Df",
        "outputId": "945eb2b1-44d3-43f7-a85d-1a588f1bdebd"
      },
      "execution_count": 3,
      "outputs": [
        {
          "output_type": "stream",
          "name": "stdout",
          "text": [
            "Training features: [[9, 10], [5, 6], [1, 2], [7, 8]]\n",
            "Testing features: [[3, 4]]\n",
            "Training labels: [0, 0, 0, 1]\n",
            "Testing labels: [1]\n"
          ]
        }
      ]
    },
    {
      "cell_type": "markdown",
      "source": [
        "In this example:\n",
        "- X represents the features, and y represents the target variable.\n",
        "- test_size=0.2 means 20% of the data will be used for testing, while 80% will be for training.\n",
        "- random_state=42 ensures that the split is reproducible.\n",
        "\n",
        "This way, you can effectively split your data for model fitting!"
      ],
      "metadata": {
        "id": "7ndymtblIU8O"
      }
    },
    {
      "cell_type": "markdown",
      "source": [
        "Q How do you approach a Machine Learning problem?"
      ],
      "metadata": {
        "id": "99QbAB5TIWi3"
      }
    },
    {
      "cell_type": "markdown",
      "source": [
        "Ans. To approach a machine learning problem, follow these steps:\n",
        "\n",
        "1. Define the problem and its type (classification, regression, etc.).\n",
        "2. Collect relevant data.\n",
        "3. Preprocess the data (cleaning, handling missing values).\n",
        "4. Explore the data to understand patterns.\n",
        "5. Split the data into training and testing sets.\n",
        "6. Select and train a suitable model.\n",
        "7. Evaluate the model's performance using metrics.\n",
        "8. Tune hyperparameters for optimization.\n",
        "9. Deploy the model for predictions.\n",
        "10. Monitor and maintain the model over time.\n",
        "\n",
        "This structured approach helps ensure effective problem-solving in machine learning."
      ],
      "metadata": {
        "id": "9xKtPXKAIdT4"
      }
    },
    {
      "cell_type": "markdown",
      "source": [
        "Q11 Why do we have to perform EDA before fitting a model to the data?"
      ],
      "metadata": {
        "id": "OxwmlNnGI5Bl"
      }
    },
    {
      "cell_type": "markdown",
      "source": [
        "Ans. EDA (Exploratory Data Analysis) is crucial before fitting a model because it helps you understand the data's distribution, identify patterns and relationships, detect missing values, select relevant features, check assumptions, and guide preprocessing steps. This understanding leads to better model performance and accuracy."
      ],
      "metadata": {
        "id": "7J0EsK9rI_WT"
      }
    },
    {
      "cell_type": "markdown",
      "source": [
        "Q12 What is correlation?"
      ],
      "metadata": {
        "id": "BcenepyJJzfX"
      }
    },
    {
      "cell_type": "markdown",
      "source": [
        "Ans. Correlation is a statistical measure that shows the strength and direction of the relationship between two variables. It ranges from -1 to +1: +1 means a perfect positive correlation, -1 means a perfect negative correlation, and 0 means no correlation. It helps identify how changes in one variable relate to changes in another."
      ],
      "metadata": {
        "id": "Vlg5V6glJ5t6"
      }
    },
    {
      "cell_type": "markdown",
      "source": [
        "Q13 What does negative correlation mean?"
      ],
      "metadata": {
        "id": "-XQXmubxKJW0"
      }
    },
    {
      "cell_type": "markdown",
      "source": [
        "Ans. Negative correlation means that as one variable increases, the other variable tends to decrease. In other words, there is an inverse relationship between the two variables. For example, if the temperature goes up, the demand for heating might go down. The correlation coefficient for a negative correlation will be between -1 and 0, with values closer to -1 indicating a stronger negative relationship.\n",
        "\n",
        "\n",
        "\n"
      ],
      "metadata": {
        "id": "sspAEJDAKNB1"
      }
    },
    {
      "cell_type": "markdown",
      "source": [
        "Q14 How can you find correlation between variables in Python?"
      ],
      "metadata": {
        "id": "AobvDEViMinZ"
      }
    },
    {
      "cell_type": "markdown",
      "source": [
        "Ans. To find the correlation between variables in Python, you can use the Pandas library, which provides a simple way to calculate correlation coefficients. Here’s how you can do it step by step:\n",
        "\n",
        "1. Import the Pandas library: Make sure you have Pandas installed. If not, you can install it using pip.\n",
        "\n",
        "2. Load your data: You can load your data into a Pandas DataFrame. This can be done from various sources like CSV files, Excel files, or directly from a database.\n",
        "\n",
        "3. Calculate correlation: Use the .corr() method on your DataFrame to compute the correlation matrix.\n",
        "\n",
        "Here’s an example code snippet:\n",
        "\n",
        "python\n",
        "import pandas as pd\n",
        "\n",
        "# Load your data into a DataFrame\n",
        "data = pd.read_csv('your_data_file.csv')\n",
        "\n",
        "# Calculate the correlation matrix\n",
        "correlation_matrix = data.corr()\n",
        "\n",
        "# Display the correlation matrix\n",
        "print(correlation_matrix)\n",
        "\n",
        "\n",
        "This will give you a matrix showing the correlation coefficients between all pairs of variables in your DataFrame. You can also specify specific columns if you want to see the correlation between just those."
      ],
      "metadata": {
        "id": "h-KFYOZTNdc2"
      }
    },
    {
      "cell_type": "markdown",
      "source": [
        "Q15 What is causation? Explain difference between correlation and causation with an example."
      ],
      "metadata": {
        "id": "VC2Jm9vpNhqF"
      }
    },
    {
      "cell_type": "markdown",
      "source": [
        "Ans. Causation means one variable directly causes changes in another. The difference between correlation and causation is that correlation shows a relationship between two variables without implying that one causes the other. For example, ice cream sales and drowning incidents are correlated in summer, but buying ice cream does not cause drowning; both are influenced by warm weather."
      ],
      "metadata": {
        "id": "6gkIKkgKNnY5"
      }
    },
    {
      "cell_type": "markdown",
      "source": [
        "Q16 What is an Optimizer? What are different types of optimizers? Explain each with an example."
      ],
      "metadata": {
        "id": "2up85bblOBQ_"
      }
    },
    {
      "cell_type": "markdown",
      "source": [
        "Ans. Optimized refers to the process of making something as effective or functional as possible. In machine learning, optimizers adjust a model's parameters to minimize loss.\n",
        "\n",
        "Different types of optimizers include:\n",
        "\n",
        "1. Stochastic Gradient Descent (SGD): Updates parameters one example at a time, leading to faster convergence but noisy updates. Example: Training a neural network with one sample.\n",
        "\n",
        "2. Momentum: Builds on SGD by adding a momentum term to smooth updates and accelerate convergence. Example: Helps a ball keep rolling down a hill.\n",
        "\n",
        "3. Adagrad: Adapts learning rates for each parameter based on update frequency. Example: Larger rates for infrequent parameters.\n",
        "\n",
        "4. RMSprop: Modifies Adagrad with a decay factor to maintain stable learning rates. Example: Useful for training recurrent neural networks.\n",
        "\n",
        "5. Adam: Combines Momentum and RMSprop, tracking both mean and variance of gradients for adaptive learning rates. Example: Commonly used in deep learning models.\n",
        "\n",
        "These optimizers help improve model training efficiency and effectiveness."
      ],
      "metadata": {
        "id": "Avv8LhCROF0f"
      }
    },
    {
      "cell_type": "markdown",
      "source": [
        "Q17 What is sklearn.linear_model ?"
      ],
      "metadata": {
        "id": "v8pJbFg2Uh5f"
      }
    },
    {
      "cell_type": "markdown",
      "source": [
        "Ans. sklearn.linear_model is a module in the Scikit-learn library that provides various linear models for machine learning. Key components include:\n",
        "\n",
        "1. LinearRegression: For predicting continuous values.\n",
        "2. LogisticRegression: For binary classification tasks.\n",
        "3. Ridge: Linear regression with L2 regularization to prevent overfitting.\n",
        "4. Lasso: Linear regression with L1 regularization for feature selection.\n",
        "5. ElasticNet: Combines L1 and L2 regularization.\n",
        "\n",
        "These tools are commonly used for both regression and classification problems in machine learning."
      ],
      "metadata": {
        "id": "PaMHxadmUmEq"
      }
    },
    {
      "cell_type": "markdown",
      "source": [
        "Q18 What does model.fit() do? What arguments must be given?"
      ],
      "metadata": {
        "id": "I8bUnNMXU4Qk"
      }
    },
    {
      "cell_type": "markdown",
      "source": [
        "Ans.model.fit() is a method used to train a machine learning model on a dataset. It requires two main arguments:\n",
        "\n",
        "1. X: The input feature data (2D array-like).\n",
        "2. y: The target variable data (1D array-like).\n",
        "\n",
        "When you call model.fit(X, y), the model learns the relationship between the features and the target variable."
      ],
      "metadata": {
        "id": "flvfQWy2U8HC"
      }
    },
    {
      "cell_type": "markdown",
      "source": [
        "Q19 What does model.predict() do? What arguments must be given?"
      ],
      "metadata": {
        "id": "S8Np9zCpVVdn"
      }
    },
    {
      "cell_type": "markdown",
      "source": [
        "Ans. model.predict() is a method used to make predictions based on the input data after the model has been trained. It takes the following argument:\n",
        "\n",
        "1. X: The input feature data for which you want to make predictions. This should be in the same format as the input data used during training (usually a 2D array-like structure).\n",
        "\n",
        "When you call model.predict(X), the model uses the learned parameters to predict the target values for the provided input features."
      ],
      "metadata": {
        "id": "Ce2WYmLzVcZD"
      }
    },
    {
      "cell_type": "markdown",
      "source": [
        "Q20 What are continuous and categorical variables?"
      ],
      "metadata": {
        "id": "O_Tvgvr3VtQn"
      }
    },
    {
      "cell_type": "markdown",
      "source": [
        "Ans. Continuous variables are numerical values that can take any value within a given range. They can be measured and have an infinite number of possible values. Examples include height, weight, temperature, and time.\n",
        "\n",
        "Categorical variables, on the other hand, represent distinct categories or groups and are usually non-numeric. They can be divided into two types: nominal (no natural order, like colors or names) and ordinal (with a natural order, like rankings). Examples include gender, type of car, or education level.\n",
        "\n",
        "In summary, continuous variables are numerical and can vary smoothly, while categorical variables represent discrete categories or groups."
      ],
      "metadata": {
        "id": "NIBWRzXKVxb2"
      }
    },
    {
      "cell_type": "markdown",
      "source": [
        "Q21 What is feature scaling? How does it help in Machine Learning?"
      ],
      "metadata": {
        "id": "_O_KRQvdWM0p"
      }
    },
    {
      "cell_type": "markdown",
      "source": [
        "Ans. Feature scaling is the process of normalizing or standardizing the range of features in a dataset. It helps in machine learning by ensuring that all features contribute equally to the model, improving the speed of convergence for optimization algorithms, and enhancing the performance of distance-based algorithms. Common methods include Min-Max Scaling (scaling features to a range of [0, 1]) and Standardization (transforming features to have a mean of 0 and a standard deviation of 1)."
      ],
      "metadata": {
        "id": "owkQu95iWRK0"
      }
    },
    {
      "cell_type": "markdown",
      "source": [
        "Q22 How do we perform scaling in Python?"
      ],
      "metadata": {
        "id": "SVC5Q3vIe4CN"
      }
    },
    {
      "cell_type": "markdown",
      "source": [
        "Ans. In Python, you can perform feature scaling using libraries like scikit-learn.:\n"
      ],
      "metadata": {
        "id": "75Nv_YSrfw0c"
      }
    },
    {
      "cell_type": "code",
      "source": [
        "from sklearn.preprocessing import MinMaxScaler\n",
        "\n",
        "# Sample data\n",
        "data = [[1, 2], [3, 4], [5, 6]]\n",
        "\n",
        "# Create a MinMaxScaler object\n",
        "scaler = MinMaxScaler()\n",
        "\n",
        "# Fit the scaler to the data and transform it\n",
        "scaled_data = scaler.fit_transform(data)\n",
        "\n",
        "print(\"Min-Max Scaled Data:\\n\", scaled_data)"
      ],
      "metadata": {
        "colab": {
          "base_uri": "https://localhost:8080/"
        },
        "id": "Wf39Pj8TgLBv",
        "outputId": "dfa13496-4d51-4591-a316-484ef9639f10"
      },
      "execution_count": 12,
      "outputs": [
        {
          "output_type": "stream",
          "name": "stdout",
          "text": [
            "Min-Max Scaled Data:\n",
            " [[0.  0. ]\n",
            " [0.5 0.5]\n",
            " [1.  1. ]]\n"
          ]
        }
      ]
    },
    {
      "cell_type": "markdown",
      "source": [
        "Q23 What is sklearn.preprocessing?"
      ],
      "metadata": {
        "id": "m0amy316ggJ8"
      }
    },
    {
      "cell_type": "markdown",
      "source": [
        "Ans. sklearn.preprocessing is a module in the scikit-learn library that provides tools for preparing data for machine learning. It includes functions for scaling features (like MinMaxScaler and StandardScaler), encoding categorical variables (like OneHotEncoder), handling missing values (like SimpleImputer), and creating polynomial features. It's essential for transforming data to improve model performance."
      ],
      "metadata": {
        "id": "-3hcekdmghTC"
      }
    },
    {
      "cell_type": "markdown",
      "source": [
        "Q24 How do we split data for model fitting (training and testing) in Python?"
      ],
      "metadata": {
        "id": "Qar2VMernlSa"
      }
    },
    {
      "cell_type": "markdown",
      "source": [
        "In Python, you can split your data into training and testing sets using the train_test_split function from the sklearn.model_selection module. Here's how you can do it:\n"
      ],
      "metadata": {
        "id": "SpcgbnQlnpM3"
      }
    },
    {
      "cell_type": "code",
      "source": [
        "from sklearn.model_selection import train_test_split\n",
        "import numpy as np\n",
        "\n",
        "# Sample data (features and labels)\n",
        "X = np.array([[1, 2], [2, 3], [3, 4], [4, 5], [5, 6]])  # Features\n",
        "y = np.array([0, 1, 0, 1, 0])  # Labels\n",
        "\n",
        "# Split the data into training and testing sets\n",
        "X_train, X_test, y_train, y_test = train_test_split(X, y, test_size=0.2, random_state=42)\n",
        "\n",
        "print(\"Training Features:\\n\", X_train)\n",
        "print(\"Testing Features:\\n\", X_test)\n",
        "print(\"Training Labels:\\n\", y_train)\n",
        "print(\"Testing Labels:\\n\", y_test)"
      ],
      "metadata": {
        "colab": {
          "base_uri": "https://localhost:8080/"
        },
        "id": "eojFxN50n7_L",
        "outputId": "99bebfea-b6fd-45c7-c0e8-6d9eb4a7aa22"
      },
      "execution_count": 13,
      "outputs": [
        {
          "output_type": "stream",
          "name": "stdout",
          "text": [
            "Training Features:\n",
            " [[5 6]\n",
            " [3 4]\n",
            " [1 2]\n",
            " [4 5]]\n",
            "Testing Features:\n",
            " [[2 3]]\n",
            "Training Labels:\n",
            " [0 0 0 1]\n",
            "Testing Labels:\n",
            " [1]\n"
          ]
        }
      ]
    },
    {
      "cell_type": "markdown",
      "source": [
        "Q25 Explain data encoding?"
      ],
      "metadata": {
        "id": "oUl35P2JoBBl"
      }
    },
    {
      "cell_type": "markdown",
      "source": [
        "Ans. Data encoding is the process of converting categorical data into a numerical format for machine learning algorithms. Common methods include:\n",
        "\n",
        "1. Label Encoding: Assigns unique integers to categories (e.g., \"Red\" = 0, \"Green\" = 1).\n",
        "2. One-Hot Encoding: Creates binary columns for each category (e.g., \"Color_Red\", \"Color_Green\").\n",
        "3. Binary Encoding: Converts categories to integers and then to binary format.\n",
        "4. Target Encoding: Replaces categories with the mean of the target variable for that category.\n",
        "\n",
        "Encoding is essential for allowing models to understand and work with categorical variables effectively."
      ],
      "metadata": {
        "id": "bsxXFRbhoHG7"
      }
    }
  ]
}